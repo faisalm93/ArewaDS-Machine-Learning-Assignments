{
  "nbformat": 4,
  "nbformat_minor": 0,
  "metadata": {
    "colab": {
      "provenance": []
    },
    "kernelspec": {
      "name": "python3",
      "display_name": "Python 3"
    },
    "language_info": {
      "name": "python"
    }
  },
  "cells": [
    {
      "cell_type": "code",
      "source": [
        "import pandas as pd\n",
        "import numpy as np\n",
        "\n",
        "# Set the random seed for reproducibility\n",
        "np.random.seed(0)\n",
        "\n",
        "# Generate a time index with 365 data points at hourly intervals\n",
        "time_index = pd.date_range(start='2023-01-01', periods=365*24, freq='H')\n",
        "\n",
        "# Generate random glucose levels within a healthy range\n",
        "glucose_levels = np.random.normal(loc=100, scale=10, size=len(time_index))\n",
        "\n",
        "# Introduce daily fluctuations in glucose levels\n",
        "day_of_year = time_index.dayofyear\n",
        "daily_fluctuation = 5 * np.sin(2 * np.pi * day_of_year / 365)\n",
        "glucose_levels += daily_fluctuation\n",
        "\n",
        "# Create a DataFrame with the time index and glucose levels\n",
        "df = pd.DataFrame({'Timestamp': time_index, 'Glucose': glucose_levels})\n",
        "\n",
        "# Save the dataset as a CSV file\n",
        "df.to_csv('glucose_dataset.csv', index=False)\n"
      ],
      "metadata": {
        "id": "qNNGvke91KF4"
      },
      "execution_count": 4,
      "outputs": []
    },
    {
      "cell_type": "code",
      "source": [
        "df = pd.read_csv('glucose_dataset.csv')\n",
        "\n",
        "# View the first 5 rows of the dataset\n",
        "print(df.head())"
      ],
      "metadata": {
        "colab": {
          "base_uri": "https://localhost:8080/"
        },
        "id": "9ZACfuQkv7s4",
        "outputId": "305a774b-3d24-45ee-b62b-0b8a7bf0942b"
      },
      "execution_count": 2,
      "outputs": [
        {
          "output_type": "stream",
          "name": "stdout",
          "text": [
            "            Unnamed: 0     Glucose\n",
            "0  2023-01-01 00:00:00  117.726590\n",
            "1  2023-01-01 01:00:00  104.087639\n",
            "2  2023-01-01 02:00:00  109.873447\n",
            "3  2023-01-01 03:00:00  122.494999\n",
            "4  2023-01-01 04:00:00  118.761647\n"
          ]
        }
      ]
    },
    {
      "cell_type": "code",
      "source": [
        "df = pd.read_csv('glucose_dataset.csv')\n",
        "\n",
        "# View the first 5 rows of the dataset\n",
        "print(df.tail())"
      ],
      "metadata": {
        "colab": {
          "base_uri": "https://localhost:8080/"
        },
        "id": "npzVchYZwTqw",
        "outputId": "82f0dab7-cce6-4e97-f894-1d1e4c3492e6"
      },
      "execution_count": 3,
      "outputs": [
        {
          "output_type": "stream",
          "name": "stdout",
          "text": [
            "               Unnamed: 0     Glucose\n",
            "8755  2023-12-31 19:00:00  112.245029\n",
            "8756  2023-12-31 20:00:00   82.387659\n",
            "8757  2023-12-31 21:00:00  100.220842\n",
            "8758  2023-12-31 22:00:00  100.963662\n",
            "8759  2023-12-31 23:00:00   90.656540\n"
          ]
        }
      ]
    },
    {
      "cell_type": "code",
      "source": [
        "import pandas as pd\n",
        "\n",
        "# Load the glucose level dataset\n",
        "df = pd.read_csv('glucose_dataset.csv', parse_dates=['Timestamp'], index_col='Timestamp')\n",
        "\n",
        "# Compute descriptive statistics\n",
        "statistics = df['Glucose'].describe()\n",
        "print(statistics)\n"
      ],
      "metadata": {
        "colab": {
          "base_uri": "https://localhost:8080/"
        },
        "id": "Jklpr9gtwtBM",
        "outputId": "3b141e58-4930-4de0-f20b-10f154816aec"
      },
      "execution_count": 8,
      "outputs": [
        {
          "output_type": "stream",
          "name": "stdout",
          "text": [
            "count    8760.000000\n",
            "mean       99.840313\n",
            "std        10.437709\n",
            "min        64.346821\n",
            "25%        92.913423\n",
            "50%        99.727033\n",
            "75%       106.869022\n",
            "max       141.944851\n",
            "Name: Glucose, dtype: float64\n"
          ]
        }
      ]
    },
    {
      "cell_type": "code",
      "source": [
        "import pandas as pd\n",
        "import matplotlib.pyplot as plt\n",
        "\n",
        "# Load the glucose level dataset\n",
        "df = pd.read_csv('glucose_dataset.csv')\n",
        "\n",
        "# Plot the histogram of glucose levels\n",
        "plt.figure(figsize=(8, 6))\n",
        "plt.hist(df['Glucose'], bins=20)\n",
        "plt.title('Distribution of Glucose Levels')\n",
        "plt.xlabel('Glucose')\n",
        "plt.ylabel('Frequency')\n",
        "plt.show()\n"
      ],
      "metadata": {
        "colab": {
          "base_uri": "https://localhost:8080/",
          "height": 564
        },
        "id": "9Thi2H7m1sbq",
        "outputId": "5d22d620-4041-4b87-9786-a4da5a2c466d"
      },
      "execution_count": 10,
      "outputs": [
        {
          "output_type": "display_data",
          "data": {
            "text/plain": [
              "<Figure size 800x600 with 1 Axes>"
            ],
            "image/png": "[encoded data removed]"
          },
          "metadata": {}
        }
      ]
    },
    {
      "cell_type": "code",
      "source": [
        "import pandas as pd\n",
        "\n",
        "# Load the glucose level dataset\n",
        "df = pd.read_csv('glucose_dataset.csv')\n",
        "\n",
        "# Calculate autocorrelation coefficients\n",
        "autocorr_values = df['Glucose'].autocorr(lag=10)\n",
        "\n",
        "print(\"Autocorrelation Coefficients:\")\n",
        "print(autocorr_values)\n"
      ],
      "metadata": {
        "colab": {
          "base_uri": "https://localhost:8080/"
        },
        "id": "92MQwKuGP7yn",
        "outputId": "a1e9684b-e909-47ca-a613-d8a111f55a27"
      },
      "execution_count": 8,
      "outputs": [
        {
          "output_type": "stream",
          "name": "stdout",
          "text": [
            "Autocorrelation Coefficients:\n",
            "0.10493266146140244\n"
          ]
        }
      ]
    },
    {
      "cell_type": "markdown",
      "source": [
        "The autocorrelation coefficient of 0.1184 indicates a weak positive autocorrelation between the glucose levels at different lags. This means that there is a slight tendency for the current glucose level to be positively correlated with the glucose levels at previous lags.\n",
        "\n",
        "However, I examine multiple autocorrelation coefficients at different lags to get a clearer understanding of the dependencies and potential predictive patterns in the data."
      ],
      "metadata": {
        "id": "yNq7YXEKR70j"
      }
    },
    {
      "cell_type": "code",
      "source": [
        "import pandas as pd\n",
        "import matplotlib.pyplot as plt\n",
        "\n",
        "# Load the glucose level dataset\n",
        "df = pd.read_csv('glucose_dataset.csv')\n",
        "\n",
        "# Create the autocorrelation plot\n",
        "plt.figure(figsize=(10, 6))\n",
        "pd.plotting.autocorrelation_plot(df['Glucose'])\n",
        "plt.title('Autocorrelation Plot of Glucose Levels')\n",
        "plt.xlabel('Lag')\n",
        "plt.ylabel('Autocorrelation')\n",
        "plt.show()\n"
      ],
      "metadata": {
        "colab": {
          "base_uri": "https://localhost:8080/",
          "height": 564
        },
        "id": "YfIZtaI8SRq1",
        "outputId": "75cc4eef-765c-4183-a294-5347d3204a18"
      },
      "execution_count": 6,
      "outputs": [
        {
          "output_type": "display_data",
          "data": {
            "text/plain": [
              "<Figure size 1000x600 with 1 Axes>"
            ],
            "image/png": "[encoded data removed]"
          },
          "metadata": {}
        }
      ]
    },
    {
      "cell_type": "code",
      "source": [
        "import pandas as pd\n",
        "import statsmodels.api as sm\n",
        "from sklearn.metrics import mean_absolute_error, mean_squared_error\n",
        "\n",
        "# Load the glucose level dataset\n",
        "df = pd.read_csv('glucose_dataset.csv')\n",
        "\n",
        "# Split the data into training and testing sets\n",
        "train_data = df.iloc[:-100]  # Use 100 samples for testing\n",
        "test_data = df.iloc[-100:]\n",
        "\n",
        "# Specify the order parameters for the ARIMA model\n",
        "p = 1  # Autoregressive order\n",
        "d = 1  # Differencing order\n",
        "q = 1  # Moving average order\n",
        "\n",
        "# Fit the ARIMA model\n",
        "model = sm.tsa.ARIMA(train_data['Glucose'], order=(p, d, q))\n",
        "arima_model = model.fit()\n",
        "\n",
        "# Evaluate the model on the testing data\n",
        "predictions = arima_model.predict(start=len(train_data), end=len(train_data) + len(test_data) - 1)\n",
        "\n",
        "# Calculate evaluation metrics\n",
        "mae = mean_absolute_error(test_data['Glucose'], predictions)\n",
        "mse = mean_squared_error(test_data['Glucose'], predictions)\n",
        "rmse = np.sqrt(mse)\n",
        "\n",
        "# Make predictions for future glucose levels\n",
        "future_predictions = arima_model.forecast(steps=30)  # Forecast 30 steps ahead\n",
        "\n",
        "# Print the evaluation metrics and future predictions\n",
        "print(\"Mean Absolute Error:\", mae)\n",
        "print(\"Mean Squared Error:\", mse)\n",
        "print(\"Root Mean Squared Error:\", rmse)\n",
        "print(\"Future Predictions:\", future_predictions)\n"
      ],
      "metadata": {
        "colab": {
          "base_uri": "https://localhost:8080/"
        },
        "id": "u7uZyUOYVIJx",
        "outputId": "d45af0a4-e41f-41df-9bc5-50c302911b1f"
      },
      "execution_count": 8,
      "outputs": [
        {
          "output_type": "stream",
          "name": "stdout",
          "text": [
            "Mean Absolute Error: 7.6769343389866584\n",
            "Mean Squared Error: 89.76685200718626\n",
            "Root Mean Squared Error: 9.474537033923413\n",
            "Future Predictions: 8660    98.504925\n",
            "8661    98.505099\n",
            "8662    98.505100\n",
            "8663    98.505100\n",
            "8664    98.505100\n",
            "8665    98.505100\n",
            "8666    98.505100\n",
            "8667    98.505100\n",
            "8668    98.505100\n",
            "8669    98.505100\n",
            "8670    98.505100\n",
            "8671    98.505100\n",
            "8672    98.505100\n",
            "8673    98.505100\n",
            "8674    98.505100\n",
            "8675    98.505100\n",
            "8676    98.505100\n",
            "8677    98.505100\n",
            "8678    98.505100\n",
            "8679    98.505100\n",
            "8680    98.505100\n",
            "8681    98.505100\n",
            "8682    98.505100\n",
            "8683    98.505100\n",
            "8684    98.505100\n",
            "8685    98.505100\n",
            "8686    98.505100\n",
            "8687    98.505100\n",
            "8688    98.505100\n",
            "8689    98.505100\n",
            "Name: predicted_mean, dtype: float64\n"
          ]
        }
      ]
    },
    {
      "cell_type": "markdown",
      "source": [
        "# Interpretation of the result\n",
        "\n",
        " In this case, the MAE value of 7.6769 suggests that, on average, the predictions deviate from the actual glucose levels by approximately 7.6769 units.\n",
        "\n",
        " The MSE value of 89.7669 indicates the average squared deviation between the actual and predicted values.\n",
        "\n",
        " The RMSE value of 9.4745 suggests that, on average, the predictions deviate from the actual glucose levels by approximately 9.4745 units.\n",
        "\n",
        " The \"Future Predictions\" section shows the predicted glucose levels for the next 30 steps (future time points) based on the trained ARIMA model. These predictions are provided as a pandas Series, where each entry represents the predicted glucose level at a specific time point.\n",
        "\n",
        ""
      ],
      "metadata": {
        "id": "hbPL_9HTZd2s"
      }
    },
    {
      "cell_type": "markdown",
      "source": [
        "Comparing our result with baseline\n"
      ],
      "metadata": {
        "id": "nLJJIpCd1rwr"
      }
    },
    {
      "cell_type": "code",
      "source": [
        "import pandas as pd\n",
        "\n",
        "# Load the glucose level dataset\n",
        "df = pd.read_csv('glucose_dataset.csv')\n",
        "\n",
        "# Create the persistence baseline\n",
        "baseline_predictions = df['Glucose'].shift(1)\n",
        "\n",
        "# Remove the first entry (NaN) from the baseline predictions\n",
        "baseline_predictions = baseline_predictions[1:]\n",
        "\n",
        "# Evaluate the baseline against the actual glucose levels\n",
        "mae_baseline = mean_absolute_error(df['Glucose'][1:], baseline_predictions)\n",
        "mse_baseline = mean_squared_error(df['Glucose'][1:], baseline_predictions)\n",
        "rmse_baseline = np.sqrt(mse_baseline)\n",
        "\n",
        "# Print the evaluation metrics for the baseline\n",
        "print(\"Baseline Mean Absolute Error:\", mae_baseline)\n",
        "print(\"Baseline Mean Squared Error:\", mse_baseline)\n",
        "print(\"Baseline Root Mean Squared Error:\", rmse_baseline)\n"
      ],
      "metadata": {
        "colab": {
          "base_uri": "https://localhost:8080/"
        },
        "id": "G_nWkK8ea3K9",
        "outputId": "e59cb402-4f3f-4ee6-a695-b6231698fb8e"
      },
      "execution_count": 9,
      "outputs": [
        {
          "output_type": "stream",
          "name": "stdout",
          "text": [
            "Baseline Mean Absolute Error: 11.068259686568053\n",
            "Baseline Mean Squared Error: 192.04948845288624\n",
            "Baseline Root Mean Squared Error: 13.858192106219564\n"
          ]
        }
      ]
    },
    {
      "cell_type": "markdown",
      "source": [
        "Based on the evaluation metrics, here is a comparison of the ARIMA model's performance with the baseline method:\n",
        "\n",
        "ARIMA Mean Absolute Error: 7.677\n",
        "\n",
        "Baseline Mean Absolute Error: 11.068\n",
        "\n",
        "ARIMA Mean Squared Error: 89.767\n",
        "\n",
        "Baseline Mean Squared Error: 192.049\n",
        "\n",
        "ARIMA Root Mean Squared Error: 9.475\n",
        "\n",
        "Baseline Root Mean Squared Error: 13.858\n",
        "\n",
        "\n",
        "Comparing the ARIMA model's error metrics with those of the baseline, we can draw the following conclusions:\n",
        "\n",
        "Accuracy: The ARIMA model has a lower mean absolute error (MAE) of 7.677 compared to the baseline's MAE of 11.068. This indicates that the ARIMA model, on average, has smaller absolute differences between the predicted and actual glucose levels, suggesting higher accuracy.\n",
        "\n",
        "Precision: The ARIMA model also outperforms the baseline in terms of mean squared error (MSE) and root mean squared error (RMSE). The ARIMA model has lower MSE (89.767) and RMSE (9.475) values compared to the baseline's MSE (192.049) and RMSE (13.858) values.\n",
        "\n",
        "This implies that the ARIMA model provides more precise predictions and has a smaller spread of errors.\n",
        "\n",
        "Overall, the ARIMA model demonstrates superior performance compared to the simple persistence baseline method in predicting glucose levels. It achieves higher accuracy, lower mean squared error, and a narrower spread of errors. These findings suggest that the ARIMA model captures important patterns and dependencies in the data, enabling more accurate and reliable glucose level forecasts.\n"
      ],
      "metadata": {
        "id": "JJ9Q2GsE2smH"
      }
    }
  ]
}