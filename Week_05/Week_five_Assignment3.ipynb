{
 "cells": [
  {
   "cell_type": "code",
   "execution_count": 34,
   "id": "97758cf5-0413-4798-9143-75b8da21d591",
   "metadata": {},
   "outputs": [],
   "source": [
    "from sklearn.neighbors import KNeighborsClassifier\n",
    "from sklearn.linear_model import LogisticRegression\n",
    "from sklearn.svm import SVC\n",
    "from sklearn.ensemble import RandomForestClassifier, AdaBoostClassifier\n",
    "from sklearn.model_selection import train_test_split, cross_val_score\n",
    "from sklearn.metrics import accuracy_score,precision_score,confusion_matrix,classification_report, precision_recall_curve\n",
    "import numpy as np\n",
    "X_train, X_test, y_train, y_test = train_test_split(cuisines_feature_df, cuisines_label_df, test_size=0.3)\n"
   ]
  },
  {
   "cell_type": "code",
   "execution_count": 48,
   "id": "4f95b7b9-930c-4972-b4bb-f5ddadee9425",
   "metadata": {},
   "outputs": [
    {
     "name": "stdout",
     "output_type": "stream",
     "text": [
      "Accuracy (train) for Linear SVC: 70.4%\n",
      "              precision    recall  f1-score   support\n",
      "\n",
      "     chinese       0.69      0.70      0.70       108\n",
      "      indian       0.79      0.87      0.83        83\n",
      "    japanese       0.60      0.57      0.58        60\n",
      "      korean       0.75      0.71      0.73       113\n",
      "        thai       0.59      0.57      0.58        42\n",
      "\n",
      "    accuracy                           0.70       406\n",
      "   macro avg       0.68      0.68      0.68       406\n",
      "weighted avg       0.70      0.70      0.70       406\n",
      "\n"
     ]
    }
   ],
   "source": [
    "from sklearn.impute import SimpleImputer\n",
    "from sklearn.preprocessing import StandardScaler\n",
    "\n",
    "# Handle missing values\n",
    "imputer = SimpleImputer(strategy='mean')\n",
    "X_train_imputed = imputer.fit_transform(X_train)\n",
    "X_test_imputed = imputer.transform(X_test)\n",
    "\n",
    "# Scale the data\n",
    "scaler = StandardScaler()\n",
    "X_train_scaled = scaler.fit_transform(X_train_imputed)\n",
    "X_test_scaled = scaler.transform(X_test_imputed)\n",
    "\n",
    "# Create classifiers and train them\n",
    "classifiers = {\n",
    "    'Linear SVC': SVC(kernel='linear', C=C, probability=True, random_state=0)\n",
    "}\n",
    "\n",
    "for index, (name, classifier) in enumerate(classifiers.items()):\n",
    "    classifier.fit(X_train_scaled, np.ravel(y_train))\n",
    "\n",
    "    y_pred = classifier.predict(X_test_scaled)\n",
    "    accuracy = accuracy_score(y_test, y_pred)\n",
    "    print(\"Accuracy (train) for %s: %0.1f%%\" % (name, accuracy * 100))\n",
    "    print(classification_report(y_test, y_pred))\n"
   ]
  },
  {
   "cell_type": "code",
   "execution_count": 42,
   "id": "b70119fe-2f9d-4eee-b1bd-9673d7b0ae36",
   "metadata": {},
   "outputs": [
    {
     "name": "stdout",
     "output_type": "stream",
     "text": [
      "Accuracy (test) for Linear SVC: 69.0%\n",
      "              precision    recall  f1-score   support\n",
      "\n",
      "     chinese       0.65      0.69      0.67       108\n",
      "      indian       0.80      0.86      0.83        83\n",
      "    japanese       0.56      0.52      0.54        60\n",
      "      korean       0.74      0.69      0.71       113\n",
      "        thai       0.61      0.60      0.60        42\n",
      "\n",
      "    accuracy                           0.69       406\n",
      "   macro avg       0.67      0.67      0.67       406\n",
      "weighted avg       0.69      0.69      0.69       406\n",
      "\n",
      "Accuracy (test) for Random Forest: 75.1%\n",
      "              precision    recall  f1-score   support\n",
      "\n",
      "     chinese       0.77      0.71      0.74       108\n",
      "      indian       0.85      0.92      0.88        83\n",
      "    japanese       0.71      0.60      0.65        60\n",
      "      korean       0.71      0.77      0.74       113\n",
      "        thai       0.67      0.69      0.68        42\n",
      "\n",
      "    accuracy                           0.75       406\n",
      "   macro avg       0.74      0.74      0.74       406\n",
      "weighted avg       0.75      0.75      0.75       406\n",
      "\n"
     ]
    }
   ],
   "source": [
    "from sklearn.impute import SimpleImputer\n",
    "from sklearn.preprocessing import StandardScaler\n",
    "from sklearn.ensemble import RandomForestClassifier\n",
    "\n",
    "# Handle missing values\n",
    "imputer = SimpleImputer(strategy='mean')\n",
    "X_train_imputed = imputer.fit_transform(X_train)\n",
    "X_test_imputed = imputer.transform(X_test)\n",
    "\n",
    "# Scale the data\n",
    "scaler = StandardScaler()\n",
    "X_train_scaled = scaler.fit_transform(X_train_imputed)\n",
    "X_test_scaled = scaler.transform(X_test_imputed)\n",
    "\n",
    "# Create classifiers\n",
    "classifiers = {\n",
    "    'Linear SVC': SVC(kernel='linear', C=C, probability=True, random_state=0),\n",
    "    'Random Forest': RandomForestClassifier(n_estimators=100, random_state=0)\n",
    "}\n",
    "\n",
    "# Train and evaluate classifiers\n",
    "for name, classifier in classifiers.items():\n",
    "    classifier.fit(X_train_scaled, np.ravel(y_train))\n",
    "    y_pred = classifier.predict(X_test_scaled)\n",
    "    accuracy = accuracy_score(y_test, y_pred)\n",
    "    print(\"Accuracy (test) for %s: %0.1f%%\" % (name, accuracy * 100))\n",
    "    print(classification_report(y_test, y_pred))\n"
   ]
  },
  {
   "cell_type": "code",
   "execution_count": 53,
   "id": "01fc1edc-65c2-4925-b205-30d8a245f584",
   "metadata": {},
   "outputs": [
    {
     "name": "stdout",
     "output_type": "stream",
     "text": [
      "Accuracy for Linear SVC: 70.4% \n",
      "Confusion Matrix:\n",
      "[[76  4 12 10  6]\n",
      " [ 3 72  0  4  4]\n",
      " [11  1 34 12  2]\n",
      " [15  3 10 80  5]\n",
      " [ 5 11  1  1 24]]\n",
      "Classification Report:\n",
      "              precision    recall  f1-score   support\n",
      "\n",
      "     chinese       0.69      0.70      0.70       108\n",
      "      indian       0.79      0.87      0.83        83\n",
      "    japanese       0.60      0.57      0.58        60\n",
      "      korean       0.75      0.71      0.73       113\n",
      "        thai       0.59      0.57      0.58        42\n",
      "\n",
      "    accuracy                           0.70       406\n",
      "   macro avg       0.68      0.68      0.68       406\n",
      "weighted avg       0.70      0.70      0.70       406\n",
      "\n"
     ]
    }
   ],
   "source": [
    "from sklearn.metrics import accuracy_score, confusion_matrix, classification_report\n",
    "\n",
    "# Fit the classifiers\n",
    "\n",
    "for index, (name, classifier) in enumerate(classifiers.items()):\n",
    "    classifier.fit(X_train, np.ravel(y_train))\n",
    "\n",
    "    y_pred = classifier.predict(X_test)\n",
    "    accuracy = accuracy_score(y_test, y_pred)\n",
    "    print(\"Accuracy for %s: %0.1f%% \" % (name, accuracy * 100))\n",
    "\n",
    "    # Print confusion matrix\n",
    "    print(\"Confusion Matrix:\")\n",
    "    print(confusion_matrix(y_test, y_pred))\n",
    "\n",
    "    # Print classification report\n",
    "    print(\"Classification Report:\")\n",
    "    print(classification_report(y_test, y_pred))"
   ]
  },
  {
   "cell_type": "markdown",
   "id": "e4393c74-68d6-46c9-a0df-59596ba51e2d",
   "metadata": {},
   "source": [
    "## Interpretation of the result\n",
    "Below is the result of performance metrics for two classifiers: Linear SVC and Random Forest. \n",
    "\n",
    "# For Linear SVC:\n",
    "\n",
    "Accuracy (test): The accuracy of the Linear SVC classifier on the test set is 69.0%. This means that the classifier correctly predicted the class label for 69.0% of the instances in the test set.\n",
    "\n",
    "Classification Report: The classification report provides precision, recall, and F1-score metrics for each class, along with the support (number of instances) for each class. Precision measures the proportion of correctly predicted instances of a particular class out of all instances predicted as that class. Recall measures the proportion of instances of a particular class that were correctly predicted out of all instances that belong to that class. The F1-score is the harmonic mean of precision and recall, providing a balanced measure of the classifier's performance. The weighted average of precision, recall, and F1-score is also provided, taking into account the support for each class.\n",
    "\n",
    "# For Random Forest:\n",
    "\n",
    "Accuracy (test): The accuracy of the Random Forest classifier on the test set is 75.1%. This means that the classifier correctly predicted the class label for 75.1% of the instances in the test set.\n",
    "\n",
    "Classification Report: Similar to the Linear SVC classifier, the classification report provides precision, recall, and F1-score metrics for each class, along with the support (number of instances) for each class. The weighted average of precision, recall, and F1-score is also provided.\n",
    "\n",
    "In both cases, the classification reports provide a breakdown of the performance of the classifiers for each class. The precision, recall, and F1-score values indicate the classifier's ability to correctly predict instances for each class. The accuracy metric gives an overall measure of the classifier's performance on the entire test set.\n",
    "\n",
    "Comparing the results, we can see that the Random Forest classifier achieved a higher accuracy (75.1%) compared to the Linear SVC classifier (69.0%). Additionally, the precision, recall, and F1-score values for Random Forest tend to be higher for most classes, indicating a better overall performance compared to Linear SVC.\n"
   ]
  },
  {
   "cell_type": "code",
   "execution_count": null,
   "id": "7a03515e-9736-4a46-961b-7993e2337061",
   "metadata": {},
   "outputs": [],
   "source": []
  }
 ],
 "metadata": {
  "kernelspec": {
   "display_name": "anaconda-2022.05-py39",
   "language": "python",
   "name": "conda-env-anaconda-2022.05-py39-py"
  },
  "language_info": {
   "codemirror_mode": {
    "name": "ipython",
    "version": 3
   },
   "file_extension": ".py",
   "mimetype": "text/x-python",
   "name": "python",
   "nbconvert_exporter": "python",
   "pygments_lexer": "ipython3",
   "version": "3.9.12"
  }
 },
 "nbformat": 4,
 "nbformat_minor": 5
}
