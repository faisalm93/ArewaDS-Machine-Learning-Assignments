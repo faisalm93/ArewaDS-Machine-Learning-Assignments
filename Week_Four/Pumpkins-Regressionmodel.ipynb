{
 "cells": [
  {
   "cell_type": "code",
   "execution_count": 8,
   "id": "0b1459c5-8785-4118-8fd8-7fb8de68fbfc",
   "metadata": {},
   "outputs": [],
   "source": [
    "import pandas as pd\n",
    "from sklearn.linear_model import LogisticRegression\n",
    "from sklearn.model_selection import train_test_split\n",
    "from sklearn.metrics import accuracy_score\n",
    "\n",
    "# Load the dataset\n",
    "data = pd.read_csv('US-pumpkins.csv')\n",
    "\n"
   ]
  },
  {
   "cell_type": "code",
   "execution_count": 20,
   "id": "d2f77c06-f00d-4cb9-9b7b-86a39b69c571",
   "metadata": {},
   "outputs": [
    {
     "name": "stdout",
     "output_type": "stream",
     "text": [
      "   City Name Type       Package      Variety Sub Variety  Grade     Date  \\\n",
      "0  BALTIMORE  NaN  24 inch bins          NaN         NaN    NaN  4/29/17   \n",
      "1  BALTIMORE  NaN  24 inch bins          NaN         NaN    NaN   5/6/17   \n",
      "2  BALTIMORE  NaN  24 inch bins  HOWDEN TYPE         NaN    NaN  9/24/16   \n",
      "3  BALTIMORE  NaN  24 inch bins  HOWDEN TYPE         NaN    NaN  9/24/16   \n",
      "4  BALTIMORE  NaN  24 inch bins  HOWDEN TYPE         NaN    NaN  11/5/16   \n",
      "\n",
      "   Low Price  High Price  Mostly Low  ...  Unit of Sale Quality Condition  \\\n",
      "0      270.0       280.0       270.0  ...           NaN     NaN       NaN   \n",
      "1      270.0       280.0       270.0  ...           NaN     NaN       NaN   \n",
      "2      160.0       160.0       160.0  ...           NaN     NaN       NaN   \n",
      "3      160.0       160.0       160.0  ...           NaN     NaN       NaN   \n",
      "4       90.0       100.0        90.0  ...           NaN     NaN       NaN   \n",
      "\n",
      "  Appearance Storage  Crop Repack  Trans Mode  Unnamed: 24  Unnamed: 25  \n",
      "0        NaN     NaN   NaN      E         NaN          NaN          NaN  \n",
      "1        NaN     NaN   NaN      E         NaN          NaN          NaN  \n",
      "2        NaN     NaN   NaN      N         NaN          NaN          NaN  \n",
      "3        NaN     NaN   NaN      N         NaN          NaN          NaN  \n",
      "4        NaN     NaN   NaN      N         NaN          NaN          NaN  \n",
      "\n",
      "[5 rows x 26 columns]\n",
      "      City Name Type        Package    Variety Sub Variety  Grade     Date  \\\n",
      "1752  ST. LOUIS  NaN  22 lb cartons  MINIATURE   FLAT TYPE    NaN  9/30/16   \n",
      "1753  ST. LOUIS  NaN   36 inch bins  MINIATURE  ROUND TYPE    NaN  9/26/16   \n",
      "1754  ST. LOUIS  NaN   36 inch bins  MINIATURE  ROUND TYPE    NaN  9/27/16   \n",
      "1755  ST. LOUIS  NaN   36 inch bins  MINIATURE  ROUND TYPE    NaN  9/28/16   \n",
      "1756  ST. LOUIS  NaN   36 inch bins  MINIATURE  ROUND TYPE    NaN  9/29/16   \n",
      "\n",
      "      Low Price  High Price  Mostly Low  ...  Unit of Sale Quality Condition  \\\n",
      "1752      14.75       14.75         NaN  ...           NaN     NaN       NaN   \n",
      "1753     275.00      275.00         NaN  ...           NaN     NaN       NaN   \n",
      "1754     275.00      275.00         NaN  ...           NaN     NaN       NaN   \n",
      "1755     275.00      275.00         NaN  ...           NaN     NaN       NaN   \n",
      "1756     275.00      275.00         NaN  ...           NaN     NaN       NaN   \n",
      "\n",
      "     Appearance Storage  Crop Repack  Trans Mode  Unnamed: 24  \\\n",
      "1752        NaN     NaN   NaN      N         NaN          NaN   \n",
      "1753        NaN     NaN   NaN      N         NaN          NaN   \n",
      "1754        NaN     NaN   NaN      N         NaN          NaN   \n",
      "1755        NaN     NaN   NaN      N         NaN          NaN   \n",
      "1756        NaN     NaN   NaN      N         NaN          NaN   \n",
      "\n",
      "                          Unnamed: 25  \n",
      "1752                           LOWER.  \n",
      "1753                           LOWER.  \n",
      "1754                          STEADY.  \n",
      "1755                    ABOUT STEADY.  \n",
      "1756  MINIATURE LOWER, OTHERS STEADY.  \n",
      "\n",
      "[5 rows x 26 columns]\n",
      "       Grade    Low Price   High Price   Mostly Low  Mostly High  Environment  \\\n",
      "count    0.0  1757.000000  1757.000000  1654.000000  1654.000000          0.0   \n",
      "mean     NaN   124.571338   132.970939   128.170550   132.491802          NaN   \n",
      "std      NaN    83.876591    89.524958    86.512161    88.442967          NaN   \n",
      "min      NaN     0.240000     0.240000     0.240000     0.240000          NaN   \n",
      "25%      NaN    24.000000    24.500000    24.625000    26.125000          NaN   \n",
      "50%      NaN   140.000000   150.000000   147.000000   150.000000          NaN   \n",
      "75%      NaN   180.000000   200.000000   185.000000   200.000000          NaN   \n",
      "max      NaN   480.000000   480.000000   480.000000   480.000000          NaN   \n",
      "\n",
      "       Quality  Condition  Appearance  Storage  Crop  Trans Mode  Unnamed: 24  \n",
      "count      0.0        0.0         0.0      0.0   0.0         0.0          0.0  \n",
      "mean       NaN        NaN         NaN      NaN   NaN         NaN          NaN  \n",
      "std        NaN        NaN         NaN      NaN   NaN         NaN          NaN  \n",
      "min        NaN        NaN         NaN      NaN   NaN         NaN          NaN  \n",
      "25%        NaN        NaN         NaN      NaN   NaN         NaN          NaN  \n",
      "50%        NaN        NaN         NaN      NaN   NaN         NaN          NaN  \n",
      "75%        NaN        NaN         NaN      NaN   NaN         NaN          NaN  \n",
      "max        NaN        NaN         NaN      NaN   NaN         NaN          NaN  \n",
      "City Name           object\n",
      "Type                object\n",
      "Package             object\n",
      "Variety             object\n",
      "Sub Variety         object\n",
      "Grade              float64\n",
      "Date                object\n",
      "Low Price          float64\n",
      "High Price         float64\n",
      "Mostly Low         float64\n",
      "Mostly High        float64\n",
      "Origin              object\n",
      "Origin District     object\n",
      "Item Size           object\n",
      "Color               object\n",
      "Environment        float64\n",
      "Unit of Sale        object\n",
      "Quality            float64\n",
      "Condition          float64\n",
      "Appearance         float64\n",
      "Storage            float64\n",
      "Crop               float64\n",
      "Repack              object\n",
      "Trans Mode         float64\n",
      "Unnamed: 24        float64\n",
      "Unnamed: 25         object\n",
      "dtype: object\n",
      "City Name             0\n",
      "Type               1712\n",
      "Package               0\n",
      "Variety               5\n",
      "Sub Variety        1461\n",
      "Grade              1757\n",
      "Date                  0\n",
      "Low Price             0\n",
      "High Price            0\n",
      "Mostly Low          103\n",
      "Mostly High         103\n",
      "Origin                3\n",
      "Origin District    1626\n",
      "Item Size           279\n",
      "Color               616\n",
      "Environment        1757\n",
      "Unit of Sale       1595\n",
      "Quality            1757\n",
      "Condition          1757\n",
      "Appearance         1757\n",
      "Storage            1757\n",
      "Crop               1757\n",
      "Repack                0\n",
      "Trans Mode         1757\n",
      "Unnamed: 24        1757\n",
      "Unnamed: 25        1654\n",
      "dtype: int64\n"
     ]
    }
   ],
   "source": [
    "#Exploring the dataset:\n",
    "print(data.head())\n",
    "print (data.tail())\n",
    "print(data.describe())\n",
    "print(data.dtypes)\n",
    "print(data.isnull().sum())"
   ]
  },
  {
   "cell_type": "code",
   "execution_count": 15,
   "id": "9c9b749b-49ef-44a9-9e57-13d9fd6565ed",
   "metadata": {},
   "outputs": [
    {
     "name": "stdout",
     "output_type": "stream",
     "text": [
      "City Name           object\n",
      "Type                object\n",
      "Package             object\n",
      "Variety             object\n",
      "Sub Variety         object\n",
      "Grade              float64\n",
      "Date                object\n",
      "Low Price          float64\n",
      "High Price         float64\n",
      "Mostly Low         float64\n",
      "Mostly High        float64\n",
      "Origin              object\n",
      "Origin District     object\n",
      "Item Size           object\n",
      "Color               object\n",
      "Environment        float64\n",
      "Unit of Sale        object\n",
      "Quality            float64\n",
      "Condition          float64\n",
      "Appearance         float64\n",
      "Storage            float64\n",
      "Crop               float64\n",
      "Repack              object\n",
      "Trans Mode         float64\n",
      "Unnamed: 24        float64\n",
      "Unnamed: 25         object\n",
      "dtype: object\n"
     ]
    }
   ],
   "source": []
  },
  {
   "cell_type": "code",
   "execution_count": 17,
   "id": "89e0c7ac-aebf-429f-9b54-bfc0218fb22e",
   "metadata": {},
   "outputs": [
    {
     "name": "stdout",
     "output_type": "stream",
     "text": [
      "City Name             0\n",
      "Type               1712\n",
      "Package               0\n",
      "Variety               5\n",
      "Sub Variety        1461\n",
      "Grade              1757\n",
      "Date                  0\n",
      "Low Price             0\n",
      "High Price            0\n",
      "Mostly Low          103\n",
      "Mostly High         103\n",
      "Origin                3\n",
      "Origin District    1626\n",
      "Item Size           279\n",
      "Color               616\n",
      "Environment        1757\n",
      "Unit of Sale       1595\n",
      "Quality            1757\n",
      "Condition          1757\n",
      "Appearance         1757\n",
      "Storage            1757\n",
      "Crop               1757\n",
      "Repack                0\n",
      "Trans Mode         1757\n",
      "Unnamed: 24        1757\n",
      "Unnamed: 25        1654\n",
      "dtype: int64\n"
     ]
    }
   ],
   "source": []
  },
  {
   "cell_type": "code",
   "execution_count": 43,
   "id": "605a57fe-97f9-4c5d-8e92-fbf2f18d4815",
   "metadata": {},
   "outputs": [
    {
     "data": {
      "text/plain": [
       "Text(0, 0.5, 'Pumpkin Price')"
      ]
     },
     "execution_count": 43,
     "metadata": {},
     "output_type": "execute_result"
    },
    {
     "data": {
      "image/png": "[encoded data removed]",
      "text/plain": [
       "<Figure size 432x288 with 1 Axes>"
      ]
     },
     "metadata": {
      "needs_background": "light"
     },
     "output_type": "display_data"
    }
   ],
   "source": [
    "new_pumpkins.groupby(['Month'])['Price'].mean().plot(kind='bar')\n",
    "plt.ylabel(\"Pumpkin Price\")"
   ]
  },
  {
   "cell_type": "code",
   "execution_count": 22,
   "id": "0ca69037-3a6a-4185-867a-b3cae16168f9",
   "metadata": {},
   "outputs": [
    {
     "name": "stdout",
     "output_type": "stream",
     "text": [
      "Index(['City Name', 'Type', 'Package', 'Variety', 'Sub Variety', 'Grade',\n",
      "       'Date', 'Low Price', 'High Price', 'Mostly Low', 'Mostly High',\n",
      "       'Origin', 'Origin District', 'Item Size', 'Color', 'Environment',\n",
      "       'Unit of Sale', 'Quality', 'Condition', 'Appearance', 'Storage', 'Crop',\n",
      "       'Repack', 'Trans Mode', 'Unnamed: 24', 'Unnamed: 25'],\n",
      "      dtype='object')\n"
     ]
    }
   ],
   "source": [
    "print(data.columns)"
   ]
  },
  {
   "cell_type": "code",
   "execution_count": 31,
   "id": "8ae448ea-6bb6-47fc-b171-f30d24bc068a",
   "metadata": {},
   "outputs": [],
   "source": [
    "from sklearn.model_selection import train_test_split\n",
    "\n",
    "X_train, X_test, y_train, y_test = train_test_split(X, y, test_size=0.2, random_state=42)\n"
   ]
  },
  {
   "cell_type": "code",
   "execution_count": 33,
   "id": "a544831b-8e9e-4c4a-a208-eadd570c69f7",
   "metadata": {},
   "outputs": [
    {
     "data": {
      "text/plain": [
       "0       280.00\n",
       "1       280.00\n",
       "2       160.00\n",
       "3       160.00\n",
       "4       100.00\n",
       "         ...  \n",
       "1752     14.75\n",
       "1753    275.00\n",
       "1754    275.00\n",
       "1755    275.00\n",
       "1756    275.00\n",
       "Name: High Price, Length: 1757, dtype: float64"
      ]
     },
     "execution_count": 33,
     "metadata": {},
     "output_type": "execute_result"
    }
   ],
   "source": [
    "y"
   ]
  },
  {
   "cell_type": "code",
   "execution_count": 40,
   "id": "9a61f5d9-f807-4e48-a575-7d0cd75ec2c5",
   "metadata": {},
   "outputs": [
    {
     "data": {
      "text/html": [
       "<div>\n",
       "<style scoped>\n",
       "    .dataframe tbody tr th:only-of-type {\n",
       "        vertical-align: middle;\n",
       "    }\n",
       "\n",
       "    .dataframe tbody tr th {\n",
       "        vertical-align: top;\n",
       "    }\n",
       "\n",
       "    .dataframe thead th {\n",
       "        text-align: right;\n",
       "    }\n",
       "</style>\n",
       "<table border=\"1\" class=\"dataframe\">\n",
       "  <thead>\n",
       "    <tr style=\"text-align: right;\">\n",
       "      <th></th>\n",
       "      <th>Month</th>\n",
       "      <th>DayOfYear</th>\n",
       "      <th>Variety</th>\n",
       "      <th>City</th>\n",
       "      <th>Package</th>\n",
       "      <th>Low Price</th>\n",
       "      <th>High Price</th>\n",
       "      <th>Price</th>\n",
       "    </tr>\n",
       "  </thead>\n",
       "  <tbody>\n",
       "    <tr>\n",
       "      <th>70</th>\n",
       "      <td>9</td>\n",
       "      <td>267</td>\n",
       "      <td>PIE TYPE</td>\n",
       "      <td>BALTIMORE</td>\n",
       "      <td>1 1/9 bushel cartons</td>\n",
       "      <td>15.0</td>\n",
       "      <td>15.0</td>\n",
       "      <td>13.636364</td>\n",
       "    </tr>\n",
       "    <tr>\n",
       "      <th>71</th>\n",
       "      <td>9</td>\n",
       "      <td>267</td>\n",
       "      <td>PIE TYPE</td>\n",
       "      <td>BALTIMORE</td>\n",
       "      <td>1 1/9 bushel cartons</td>\n",
       "      <td>18.0</td>\n",
       "      <td>18.0</td>\n",
       "      <td>16.363636</td>\n",
       "    </tr>\n",
       "    <tr>\n",
       "      <th>72</th>\n",
       "      <td>10</td>\n",
       "      <td>274</td>\n",
       "      <td>PIE TYPE</td>\n",
       "      <td>BALTIMORE</td>\n",
       "      <td>1 1/9 bushel cartons</td>\n",
       "      <td>18.0</td>\n",
       "      <td>18.0</td>\n",
       "      <td>16.363636</td>\n",
       "    </tr>\n",
       "    <tr>\n",
       "      <th>73</th>\n",
       "      <td>10</td>\n",
       "      <td>274</td>\n",
       "      <td>PIE TYPE</td>\n",
       "      <td>BALTIMORE</td>\n",
       "      <td>1 1/9 bushel cartons</td>\n",
       "      <td>17.0</td>\n",
       "      <td>17.0</td>\n",
       "      <td>15.454545</td>\n",
       "    </tr>\n",
       "    <tr>\n",
       "      <th>74</th>\n",
       "      <td>10</td>\n",
       "      <td>281</td>\n",
       "      <td>PIE TYPE</td>\n",
       "      <td>BALTIMORE</td>\n",
       "      <td>1 1/9 bushel cartons</td>\n",
       "      <td>15.0</td>\n",
       "      <td>15.0</td>\n",
       "      <td>13.636364</td>\n",
       "    </tr>\n",
       "  </tbody>\n",
       "</table>\n",
       "</div>"
      ],
      "text/plain": [
       "    Month  DayOfYear   Variety       City               Package  Low Price  \\\n",
       "70      9        267  PIE TYPE  BALTIMORE  1 1/9 bushel cartons       15.0   \n",
       "71      9        267  PIE TYPE  BALTIMORE  1 1/9 bushel cartons       18.0   \n",
       "72     10        274  PIE TYPE  BALTIMORE  1 1/9 bushel cartons       18.0   \n",
       "73     10        274  PIE TYPE  BALTIMORE  1 1/9 bushel cartons       17.0   \n",
       "74     10        281  PIE TYPE  BALTIMORE  1 1/9 bushel cartons       15.0   \n",
       "\n",
       "    High Price      Price  \n",
       "70        15.0  13.636364  \n",
       "71        18.0  16.363636  \n",
       "72        18.0  16.363636  \n",
       "73        17.0  15.454545  \n",
       "74        15.0  13.636364  "
      ]
     },
     "execution_count": 40,
     "metadata": {},
     "output_type": "execute_result"
    }
   ],
   "source": [
    "import pandas as pd\n",
    "import matplotlib.pyplot as plt\n",
    "import numpy as np\n",
    "from datetime import datetime\n",
    "\n",
    "pumpkins = pd.read_csv('US-pumpkins.csv')\n",
    "\n",
    "##\n",
    "pumpkins = pumpkins[pumpkins['Package'].str.contains('bushel', case=True, regex=True)]\n",
    "\n",
    "new_columns = ['Package', 'Variety', 'City Name', 'Month', 'Low Price', 'High Price', 'Date']\n",
    "pumpkins = pumpkins.drop([c for c in pumpkins.columns if c not in new_columns], axis=1)\n",
    "\n",
    "price = (pumpkins['Low Price'] + pumpkins['High Price']) / 2\n",
    "\n",
    "month = pd.DatetimeIndex(pumpkins['Date']).month\n",
    "day_of_year = pd.to_datetime(pumpkins['Date']).apply(lambda dt: (dt-datetime(dt.year,1,1)).days)\n",
    "\n",
    "new_pumpkins = pd.DataFrame(\n",
    "    {'Month': month, \n",
    "     'DayOfYear' : day_of_year, \n",
    "     'Variety': pumpkins['Variety'], \n",
    "     'City': pumpkins['City Name'], \n",
    "     'Package': pumpkins['Package'], \n",
    "     'Low Price': pumpkins['Low Price'],\n",
    "     'High Price': pumpkins['High Price'], \n",
    "     'Price': price})\n",
    "\n",
    "new_pumpkins.loc[new_pumpkins['Package'].str.contains('1 1/9'), 'Price'] = price/1.1\n",
    "new_pumpkins.loc[new_pumpkins['Package'].str.contains('1/2'), 'Price'] = price*2\n",
    "\n",
    "new_pumpkins.head()"
   ]
  },
  {
   "cell_type": "code",
   "execution_count": 41,
   "id": "3037b9c7-414d-4ce2-ac37-10877cd268a2",
   "metadata": {},
   "outputs": [
    {
     "data": {
      "image/png": "[encoded data removed]",
      "text/plain": [
       "<Figure size 432x288 with 1 Axes>"
      ]
     },
     "metadata": {
      "needs_background": "light"
     },
     "output_type": "display_data"
    }
   ],
   "source": [
    "price = new_pumpkins.Price\n",
    "month = new_pumpkins.Month\n",
    "plt.scatter(price, month)\n",
    "plt.ylabel(\"month\")\n",
    "plt.xlabel(\"price\")\n",
    "plt.show()"
   ]
  },
  {
   "cell_type": "code",
   "execution_count": 45,
   "id": "bc5c2e63-32f9-4063-89b4-82ac14879a2f",
   "metadata": {},
   "outputs": [
    {
     "data": {
      "text/plain": [
       "Text(0, 0.5, 'Pumpkin Price')"
      ]
     },
     "execution_count": 45,
     "metadata": {},
     "output_type": "execute_result"
    },
    {
     "data": {
      "image/png": "[encoded data removed]",
      "text/plain": [
       "<Figure size 432x288 with 1 Axes>"
      ]
     },
     "metadata": {
      "needs_background": "light"
     },
     "output_type": "display_data"
    }
   ],
   "source": [
    "new_pumpkins.groupby(['Month'])['Price'].mean().plot(kind='bar')\n",
    "plt.ylabel(\"Pumpkin Price\")"
   ]
  },
  {
   "cell_type": "code",
   "execution_count": 46,
   "id": "f047df97-1f78-45f3-b7eb-645c97613d05",
   "metadata": {},
   "outputs": [],
   "source": [
    "import pandas as pd\n",
    "from sklearn.model_selection import train_test_split\n",
    "from sklearn.linear_model import LinearRegression\n",
    "\n",
    "# Define the features (X) and the target variable (y)\n",
    "X = new_pumpkins[['Month', 'DayOfYear']]\n",
    "y = new_pumpkins['Price']\n",
    "\n",
    "# Split the data into training and testing sets\n",
    "X_train, X_test, y_train, y_test = train_test_split(X, y, test_size=0.2, random_state=42)\n",
    "\n",
    "# Train the model\n",
    "model = LinearRegression()\n",
    "model.fit(X_train, y_train)\n",
    "\n",
    "# Make predictions on the test set\n",
    "y_pred = model.predict(X_test)\n"
   ]
  },
  {
   "cell_type": "code",
   "execution_count": 47,
   "id": "35fae39b-70f6-49cc-8960-5e2ffe706ae4",
   "metadata": {},
   "outputs": [
    {
     "name": "stdout",
     "output_type": "stream",
     "text": [
      "Mean Squared Error: 106.97968345596605\n",
      "R^2 Score: -0.002754323545134385\n"
     ]
    }
   ],
   "source": [
    "from sklearn.metrics import mean_squared_error, r2_score\n",
    "\n",
    "# Calculate metrics on the test set\n",
    "mse = mean_squared_error(y_test, y_pred)\n",
    "r2 = r2_score(y_test, y_pred)\n",
    "\n",
    "# Print metrics\n",
    "print(\"Mean Squared Error:\", mse)\n",
    "print(\"R^2 Score:\", r2)\n"
   ]
  },
  {
   "cell_type": "code",
   "execution_count": null,
   "id": "b339bb0e-33e1-4d04-b4be-8244191fe0ea",
   "metadata": {},
   "outputs": [],
   "source": []
  }
 ],
 "metadata": {
  "kernelspec": {
   "display_name": "anaconda-2022.05-py39",
   "language": "python",
   "name": "conda-env-anaconda-2022.05-py39-py"
  },
  "language_info": {
   "codemirror_mode": {
    "name": "ipython",
    "version": 3
   },
   "file_extension": ".py",
   "mimetype": "text/x-python",
   "name": "python",
   "nbconvert_exporter": "python",
   "pygments_lexer": "ipython3",
   "version": "3.9.12"
  }
 },
 "nbformat": 4,
 "nbformat_minor": 5
}
